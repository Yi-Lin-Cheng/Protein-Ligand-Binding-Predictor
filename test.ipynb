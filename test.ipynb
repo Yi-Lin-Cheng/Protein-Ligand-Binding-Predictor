{
 "cells": [
  {
   "cell_type": "code",
   "execution_count": 1,
   "id": "37ceb567",
   "metadata": {},
   "outputs": [],
   "source": [
    "import pandas as pd\n",
    "df = pd.read_csv(\"data/BindingDB_All.tsv\", sep=\"\\t\",nrows=500)"
   ]
  },
  {
   "cell_type": "code",
   "execution_count": 2,
   "id": "40121724",
   "metadata": {},
   "outputs": [],
   "source": [
    "cols = ['Target Name', 'Ligand SMILES', 'IC50 (nM)', 'Kd (nM)', 'Ki (nM)']\n",
    "df_small = df[cols].dropna(subset=['Ligand SMILES'])"
   ]
  },
  {
   "cell_type": "code",
   "execution_count": 3,
   "id": "a4e4530b",
   "metadata": {},
   "outputs": [],
   "source": [
    "from rdkit import Chem\n",
    "from rdkit.Chem import Descriptors\n",
    "\n",
    "# 假設這是你已經挑好的 DataFrame\n",
    "# df_small = df[['Target Name', 'Ligand SMILES', 'IC50 (nM)', 'Kd (nM)', 'Ki (nM)']].dropna(subset=['Ligand SMILES'])\n",
    "\n",
    "def calc_mol_features(smiles):\n",
    "    try:\n",
    "        mol = Chem.MolFromSmiles(smiles, sanitize=True)\n",
    "        if mol is None:\n",
    "            raise ValueError(\"Invalid SMILES\")\n",
    "        mw = Descriptors.MolWt(mol)\n",
    "        logp = Descriptors.MolLogP(mol)\n",
    "        tpsa = Descriptors.TPSA(mol)\n",
    "        h_donors = Descriptors.NumHDonors(mol)\n",
    "        h_acceptors = Descriptors.NumHAcceptors(mol)\n",
    "        return pd.Series([mw, logp, tpsa, h_donors, h_acceptors])\n",
    "    except:\n",
    "        return pd.Series([None, None, None, None, None])\n",
    "\n",
    "# 新欄位\n",
    "df_small[['MolWt', 'LogP', 'TPSA', 'HDonors', 'HAcceptors']] = df_small['Ligand SMILES'].apply(calc_mol_features)\n"
   ]
  },
  {
   "cell_type": "code",
   "execution_count": 4,
   "id": "d4f8b0bb",
   "metadata": {},
   "outputs": [],
   "source": [
    "import numpy as np\n",
    "\n",
    "# 把 IC50 轉成數字 (強制處理)\n",
    "df_small['IC50 (nM)'] = pd.to_numeric(df_small['IC50 (nM)'], errors='coerce')\n",
    "\n",
    "# 刪掉不能轉的\n",
    "df_small = df_small[df_small['IC50 (nM)'].notna()]\n",
    "\n",
    "# 計算 pIC50\n",
    "df_small['pIC50'] = -np.log10(df_small['IC50 (nM)'] * 1e-9)\n",
    "\n"
   ]
  },
  {
   "cell_type": "code",
   "execution_count": 5,
   "id": "0186fc2e",
   "metadata": {},
   "outputs": [],
   "source": [
    "# 選擇要用的特徵\n",
    "X = df_small[['MolWt', 'LogP', 'TPSA', 'HDonors', 'HAcceptors']]\n",
    "y = df_small['pIC50']"
   ]
  },
  {
   "cell_type": "code",
   "execution_count": 6,
   "id": "aea3b667",
   "metadata": {},
   "outputs": [],
   "source": [
    "# 切分訓練集/測試集\n",
    "\n",
    "from sklearn.model_selection import train_test_split\n",
    "\n",
    "X_train, X_test, y_train, y_test = train_test_split(X, y, test_size=0.2, random_state=42)\n"
   ]
  },
  {
   "cell_type": "code",
   "execution_count": 7,
   "id": "2184893b",
   "metadata": {},
   "outputs": [
    {
     "name": "stdout",
     "output_type": "stream",
     "text": [
      "RandomForest R2 score: 0.650\n",
      "GradientBoosting R2 score: 0.621\n",
      "LinearRegression R2 score: 0.233\n"
     ]
    }
   ],
   "source": [
    "from sklearn.ensemble import RandomForestRegressor, GradientBoostingRegressor\n",
    "from sklearn.linear_model import LinearRegression\n",
    "from sklearn.metrics import r2_score\n",
    "\n",
    "# 定義模型\n",
    "models = {\n",
    "    \"RandomForest\": RandomForestRegressor(n_estimators=100, random_state=42),\n",
    "    \"GradientBoosting\": GradientBoostingRegressor(n_estimators=100, random_state=42),\n",
    "    \"LinearRegression\": LinearRegression()\n",
    "}\n",
    "\n",
    "# 訓練 & 評估\n",
    "for name, model in models.items():\n",
    "    model.fit(X_train, y_train)              #建立\n",
    "    y_pred = model.predict(X_test)           #預測\n",
    "    score = r2_score(y_test, y_pred)         #評估\n",
    "    print(f\"{name} R2 score: {score:.3f}\")\n"
   ]
  },
  {
   "cell_type": "code",
   "execution_count": 8,
   "id": "b4b2c2b8",
   "metadata": {},
   "outputs": [
    {
     "name": "stdout",
     "output_type": "stream",
     "text": [
      "      Removed  R2_after_removal   R2_drop\n",
      "0       MolWt          0.218283  0.431399\n",
      "1        LogP          0.377857  0.271825\n",
      "2        TPSA          0.649718 -0.000036\n",
      "3     HDonors          0.679284 -0.029601\n",
      "4  HAcceptors          0.658473 -0.008791\n"
     ]
    }
   ],
   "source": [
    "baseline_model = RandomForestRegressor(n_estimators=100, random_state=42)\n",
    "baseline_model.fit(X_train, y_train)\n",
    "y_pred_base = baseline_model.predict(X_test)\n",
    "baseline_r2 = r2_score(y_test, y_pred_base)\n",
    "\n",
    "results = []\n",
    "\n",
    "for col in X.columns:\n",
    "    X_sub = X.drop(columns=[col])\n",
    "    X_train_sub, X_test_sub, y_train_sub, y_test_sub = train_test_split(X_sub, y, test_size=0.2, random_state=42)\n",
    "    \n",
    "    model = RandomForestRegressor(n_estimators=100, random_state=42)\n",
    "    model.fit(X_train_sub, y_train_sub)\n",
    "    y_pred_sub = model.predict(X_test_sub)\n",
    "    r2 = r2_score(y_test_sub, y_pred_sub)\n",
    "    \n",
    "    results.append({\n",
    "        'Removed': col,\n",
    "        'R2_after_removal': r2,\n",
    "        'R2_drop': baseline_r2 - r2\n",
    "    })\n",
    "\n",
    "results_df = pd.DataFrame(results)\n",
    "print(results_df)"
   ]
  },
  {
   "cell_type": "code",
   "execution_count": null,
   "id": "1b805c04",
   "metadata": {},
   "outputs": [
    {
     "data": {
      "image/png": "[encoded data removed]",
      "text/plain": [
       "<Figure size 800x500 with 1 Axes>"
      ]
     },
     "metadata": {},
     "output_type": "display_data"
    }
   ],
   "source": [
    "import matplotlib.pyplot as plt\n",
    "\n",
    "plt.figure(figsize=(8, 5))\n",
    "plt.bar(results_df['Removed'], results_df['R2_drop'], color='skyblue')\n",
    "plt.ylabel(\"R2 Drop\")\n",
    "plt.xlabel(\"Removed Feature\")\n",
    "plt.title(\"Feature Importance (by R2 Drop)\")\n",
    "plt.xticks(rotation=45)\n",
    "plt.grid(axis='y', linestyle='--', alpha=0.5)\n",
    "plt.tight_layout()\n",
    "plt.show()"
   ]
  }
 ],
 "metadata": {
  "kernelspec": {
   "display_name": ".venv",
   "language": "python",
   "name": "python3"
  },
  "language_info": {
   "codemirror_mode": {
    "name": "ipython",
    "version": 3
   },
   "file_extension": ".py",
   "mimetype": "text/x-python",
   "name": "python",
   "nbconvert_exporter": "python",
   "pygments_lexer": "ipython3",
   "version": "3.10.4"
  }
 },
 "nbformat": 4,
 "nbformat_minor": 5
}
